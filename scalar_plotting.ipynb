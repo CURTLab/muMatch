{
 "cells": [
  {
   "cell_type": "code",
   "execution_count": null,
   "id": "b6745ab8",
   "metadata": {},
   "outputs": [],
   "source": [
    "import os\n",
    "import sys\n",
    "import math\n",
    "\n",
    "## Numerical\n",
    "import numpy as np\n",
    "\n",
    "## Mesh and Graphics\n",
    "import igl\n",
    "import meshplot as mp"
   ]
  },
  {
   "cell_type": "code",
   "execution_count": null,
   "id": "dc393e87",
   "metadata": {},
   "outputs": [],
   "source": [
    "mesh_dir = './example_data/processed_data/meshes'\n",
    "match_dir = './example_data/processed_data/match_results'"
   ]
  },
  {
   "cell_type": "code",
   "execution_count": null,
   "id": "b058b0d6",
   "metadata": {},
   "outputs": [],
   "source": [
    "def readMesh(fn):\n",
    "    v,f = igl.read_triangle_mesh(fn)\n",
    "    v -= v.mean(axis=0)\n",
    "    v /= np.sqrt(area(v,f))\n",
    "    return v,f\n",
    "\n",
    "\n",
    "def area(v,f):\n",
    "    a,b,c = f.T\n",
    "    areas = .5*np.cross(v[b]-v[a], v[c]-v[a])\n",
    "    face_areas = np.linalg.norm(areas,axis=-1)\n",
    "    return face_areas.sum()\n",
    "\n",
    "\n",
    "def orthogonalProcrustes(X,Y):\n",
    "    U,_,VT = np.linalg.svd(X.T @ Y)\n",
    "    R  = (VT.T).dot(U.T)\n",
    "    return R"
   ]
  },
  {
   "cell_type": "code",
   "execution_count": null,
   "id": "9a630681",
   "metadata": {},
   "outputs": [],
   "source": [
    "fn1 = \"Q03\"\n",
    "fn2 = \"Q04\"\n",
    "\n",
    "i,j = np.load(os.path.join(match_dir, \"{0}_{1}.npy\".format(fn1, fn2)))\n",
    "v1,f1 = readMesh(os.path.join(mesh_dir, fn1 + \".ply\"))\n",
    "v2,f2 = readMesh(os.path.join(mesh_dir, fn2 + \".ply\"))\n",
    "\n",
    "R  = orthogonalProcrustes(v2[j], v1[i])\n",
    "v1 = v1 @ R \n",
    " \n",
    "scalar  = v2.copy()\n",
    "scalar -= v2.min(axis=0)\n",
    "scalar /= v2.max(axis=0)\n",
    "scalar *= .6 # this can be tweaked\n",
    "\n",
    "fig = mp.subplot(v1, f1, c=scalar[j], s=[2, 2, 0])\n",
    "mp.subplot(v2, f2, c=scalar[i], s=[2, 2, 1], data=fig)"
   ]
  },
  {
   "cell_type": "code",
   "execution_count": null,
   "id": "15031781",
   "metadata": {},
   "outputs": [],
   "source": []
  }
 ],
 "metadata": {
  "kernelspec": {
   "display_name": "Python 3 (ipykernel)",
   "language": "python",
   "name": "python3"
  },
  "language_info": {
   "codemirror_mode": {
    "name": "ipython",
    "version": 3
   },
   "file_extension": ".py",
   "mimetype": "text/x-python",
   "name": "python",
   "nbconvert_exporter": "python",
   "pygments_lexer": "ipython3",
   "version": "3.8.10"
  }
 },
 "nbformat": 4,
 "nbformat_minor": 5
}
