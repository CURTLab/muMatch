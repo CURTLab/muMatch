{
 "cells": [
  {
   "cell_type": "code",
   "execution_count": 4,
   "id": "b6745ab8",
   "metadata": {},
   "outputs": [],
   "source": [
    "import os\n",
    "import sys\n",
    "import math\n",
    "\n",
    "## Numerical\n",
    "import numpy as np\n",
    "\n",
    "## Mesh and Graphics\n",
    "import igl\n",
    "import meshplot as mp"
   ]
  },
  {
   "cell_type": "code",
   "execution_count": 1,
   "id": "dc393e87",
   "metadata": {},
   "outputs": [],
   "source": [
    "folder_path = \"\"\n",
    "mesh_dir = '/Users/lfranz/Desktop/tracking/mumesh/example_data/processed_data/meshes'\n",
    "match_dir = '/Users/lfranz/Desktop/tracking/mumesh/example_data/match_results'"
   ]
  },
  {
   "cell_type": "code",
   "execution_count": 2,
   "id": "b058b0d6",
   "metadata": {},
   "outputs": [],
   "source": [
    "def readMesh(fn):\n",
    "    v,f = igl.read_triangle_mesh(fn)\n",
    "    v -= v.mean(axis=0)\n",
    "    v /= np.sqrt(area(v,f))\n",
    "    return v,f\n",
    "\n",
    "\n",
    "def area(v,f):\n",
    "    a,b,c = f.T\n",
    "    areas = .5*np.cross(v[b]-v[a], v[c]-v[a])\n",
    "    face_areas = np.linalg.norm(areas,axis=-1)\n",
    "    return face_areas.sum()\n",
    "\n",
    "\n",
    "def orthogonalProcrustes(X,Y):\n",
    "    U,_,VT = np.linalg.svd(X.T @ Y)\n",
    "    R  = (VT.T).dot(U.T)\n",
    "    return R"
   ]
  },
  {
   "cell_type": "code",
   "execution_count": 6,
   "id": "9a630681",
   "metadata": {},
   "outputs": [
    {
     "name": "stderr",
     "output_type": "stream",
     "text": [
      "/Users/lfranz/opt/anaconda3/envs/mumatch/lib/python3.8/site-packages/jupyter_client/session.py:716: UserWarning: Message serialization failed with:\n",
      "Out of range float values are not JSON compliant\n",
      "Supporting this message is deprecated in jupyter-client 7, please make sure your message is JSON-compliant\n",
      "  content = self.pack(content)\n"
     ]
    },
    {
     "data": {
      "application/vnd.jupyter.widget-view+json": {
       "model_id": "3f43ccdcdb724a5fb6040fdb2b4bb466",
       "version_major": 2,
       "version_minor": 0
      },
      "text/plain": [
       "HBox(children=(Output(), Output()))"
      ]
     },
     "metadata": {},
     "output_type": "display_data"
    },
    {
     "data": {
      "application/vnd.jupyter.widget-view+json": {
       "model_id": "a460419313bc4b45991732acc3c9b291",
       "version_major": 2,
       "version_minor": 0
      },
      "text/plain": [
       "HBox(children=(Output(), Output()))"
      ]
     },
     "metadata": {},
     "output_type": "display_data"
    }
   ],
   "source": [
    "fn1 = \"170517\"\n",
    "fn2 = \"170519\"\n",
    "\n",
    "i,j = np.load(os.path.join(match_dir, \"{0}_{1}.npy\".format(fn1, fn2)))\n",
    "v1,f1 = readMesh(os.path.join(mesh_dir, fn1 + \".ply\"))\n",
    "v2,f2 = readMesh(os.path.join(mesh_dir, fn2 + \".ply\"))\n",
    "\n",
    "R  = orthogonalProcrustes(v2[j], v1[i])\n",
    "v1 = v1 @ R \n",
    " \n",
    "scalar  = v2.copy()\n",
    "scalar -= v2.min(axis=0)\n",
    "scalar /= v2.max(axis=0)\n",
    "scalar *= .6 # this can be tweaked\n",
    "\n",
    "fig = mp.subplot(v1, f1, c=scalar[j], s=[2, 2, 0])\n",
    "mp.subplot(v2, f2, c=scalar[i], s=[2, 2, 1], data=fig)"
   ]
  },
  {
   "cell_type": "code",
   "execution_count": 11,
   "id": "3a574e6c",
   "metadata": {},
   "outputs": [
    {
     "data": {
      "text/plain": [
       "7"
      ]
     },
     "execution_count": 11,
     "metadata": {},
     "output_type": "execute_result"
    }
   ],
   "source": [
    "t = [2,5]\n",
    "def add(x,y):\n",
    "    return x+y\n",
    "add(*t)"
   ]
  },
  {
   "cell_type": "code",
   "execution_count": 19,
   "id": "5574fb5e",
   "metadata": {},
   "outputs": [
    {
     "name": "stdout",
     "output_type": "stream",
     "text": [
      "['A13-z1-links-170517-2', 'A13-z1-links-170517-3', 'A13-z1-links-170517-1', 'A13-z1-links-170517-0', 'A13-z1-links-170517-4', 'A13-z1-links-170517-5', 'A13-z1-links-170519-8', 'A13-z1-links-170517-7', 'A13-z1-links-170517-6', 'A13-z1-links-170519-9', 'A13-z1-links-170517-26', 'A13-z1-links-170517-24', 'A13-z1-links-170517-18', 'A13-z1-links-170517-19', 'A13-z1-links-170517-25', 'A13-z1-links-170517-21', 'A13-z1-links-170517-20', 'A13-z1-links-170517-22', 'A13-z1-links-170517-23', 'A13-z1-links-170517-12', 'A13-z1-links-170517-13', 'A13-z1-links-170517-11', 'A13-z1-links-170519-14', 'A13-z1-links-170517-10', 'A13-z1-links-170519-11', 'A13-z1-links-170517-14', 'A13-z1-links-170517-15', 'A13-z1-links-170519-10', 'A13-z1-links-170519-12', 'A13-z1-links-170517-17', 'A13-z1-links-170517-16', 'A13-z1-links-170519-13', 'A13-z1-links-170519-4', 'A13-z1-links-170519-5', 'A13-z1-links-170519-7', 'A13-z1-links-170517-8', 'A13-z1-links-170517-9', 'A13-z1-links-170519-6', 'A13-z1-links-170519-2', 'A13-z1-links-170519-3', 'A13-z1-links-170519-1', 'A13-z1-links-170519-0']\n"
     ]
    }
   ],
   "source": [
    "from pathlib import Path\n",
    "cur_dir = \"/Users/lfranz/Desktop/tracking/mumesh/all_follicles/\"\n",
    "raw_dir  = os.path.join(cur_dir, \"raw\")\n",
    "raw_files = [str(path.stem) for path in Path(raw_dir).glob(\"*.ply\")]\n",
    "print(raw_files)"
   ]
  },
  {
   "cell_type": "code",
   "execution_count": null,
   "id": "15031781",
   "metadata": {},
   "outputs": [],
   "source": []
  }
 ],
 "metadata": {
  "kernelspec": {
   "display_name": "Python 3 (ipykernel)",
   "language": "python",
   "name": "python3"
  },
  "language_info": {
   "codemirror_mode": {
    "name": "ipython",
    "version": 3
   },
   "file_extension": ".py",
   "mimetype": "text/x-python",
   "name": "python",
   "nbconvert_exporter": "python",
   "pygments_lexer": "ipython3",
   "version": "3.8.10"
  }
 },
 "nbformat": 4,
 "nbformat_minor": 5
}
