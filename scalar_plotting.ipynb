{
 "cells": [
  {
   "cell_type": "code",
   "execution_count": 1,
   "id": "b6745ab8",
   "metadata": {},
   "outputs": [],
   "source": [
    "import os\n",
    "import sys\n",
    "import math\n",
    "\n",
    "## Numerical\n",
    "import numpy as np\n",
    "\n",
    "## Mesh and Graphics\n",
    "import igl\n",
    "import meshplot as mp"
   ]
  },
  {
   "cell_type": "code",
   "execution_count": 2,
   "id": "dc393e87",
   "metadata": {},
   "outputs": [],
   "source": [
    "mesh_dir = './example_data/processed_data/meshes'\n",
    "match_dir = './example_data/match_results'"
   ]
  },
  {
   "cell_type": "code",
   "execution_count": 3,
   "id": "b058b0d6",
   "metadata": {},
   "outputs": [],
   "source": [
    "def readMesh(fn):\n",
    "    v,f = igl.read_triangle_mesh(fn)\n",
    "    v -= v.mean(axis=0)\n",
    "    v /= np.sqrt(area(v,f))\n",
    "    return v,f\n",
    "\n",
    "\n",
    "def area(v,f):\n",
    "    a,b,c = f.T\n",
    "    areas = .5*np.cross(v[b]-v[a], v[c]-v[a])\n",
    "    face_areas = np.linalg.norm(areas,axis=-1)\n",
    "    return face_areas.sum()\n",
    "\n",
    "\n",
    "def orthogonalProcrustes(X,Y):\n",
    "    U,_,VT = np.linalg.svd(X.T @ Y)\n",
    "    R  = (VT.T).dot(U.T)\n",
    "    return R"
   ]
  },
  {
   "cell_type": "code",
   "execution_count": 4,
   "id": "9a630681",
   "metadata": {},
   "outputs": [
    {
     "name": "stderr",
     "output_type": "stream",
     "text": [
      "/Users/uhlmann/opt/anaconda3/envs/mumatch-clean/lib/python3.8/site-packages/jupyter_client/session.py:716: UserWarning: Message serialization failed with:\n",
      "Out of range float values are not JSON compliant\n",
      "Supporting this message is deprecated in jupyter-client 7, please make sure your message is JSON-compliant\n",
      "  content = self.pack(content)\n"
     ]
    },
    {
     "data": {
      "application/vnd.jupyter.widget-view+json": {
       "model_id": "13a0ba92592f4ae7905f6aa04711e049",
       "version_major": 2,
       "version_minor": 0
      },
      "text/plain": [
       "HBox(children=(Output(), Output()))"
      ]
     },
     "metadata": {},
     "output_type": "display_data"
    },
    {
     "data": {
      "application/vnd.jupyter.widget-view+json": {
       "model_id": "6a01ce7097c04fd3a291714850186276",
       "version_major": 2,
       "version_minor": 0
      },
      "text/plain": [
       "HBox(children=(Output(), Output()))"
      ]
     },
     "metadata": {},
     "output_type": "display_data"
    }
   ],
   "source": [
    "fn1 = \"Q04\"\n",
    "fn2 = \"Q03\"\n",
    "\n",
    "i,j = np.load(os.path.join(match_dir, \"{0}_{1}.npy\".format(fn1, fn2)))\n",
    "v1,f1 = readMesh(os.path.join(mesh_dir, fn1 + \".ply\"))\n",
    "v2,f2 = readMesh(os.path.join(mesh_dir, fn2 + \".ply\"))\n",
    "\n",
    "R  = orthogonalProcrustes(v2[j], v1[i])\n",
    "v1 = v1 @ R \n",
    " \n",
    "scalar  = v2.copy()\n",
    "scalar -= v2.min(axis=0)\n",
    "scalar /= v2.max(axis=0)\n",
    "scalar *= .6 # this can be tweaked\n",
    "\n",
    "fig = mp.subplot(v1, f1, c=scalar[j], s=[2, 2, 0])\n",
    "mp.subplot(v2, f2, c=scalar[i], s=[2, 2, 1], data=fig)"
   ]
  },
  {
   "cell_type": "code",
   "execution_count": null,
   "id": "3a574e6c",
   "metadata": {},
   "outputs": [],
   "source": []
  }
 ],
 "metadata": {
  "kernelspec": {
   "display_name": "Python 3 (ipykernel)",
   "language": "python",
   "name": "python3"
  },
  "language_info": {
   "codemirror_mode": {
    "name": "ipython",
    "version": 3
   },
   "file_extension": ".py",
   "mimetype": "text/x-python",
   "name": "python",
   "nbconvert_exporter": "python",
   "pygments_lexer": "ipython3",
   "version": "3.8.10"
  }
 },
 "nbformat": 4,
 "nbformat_minor": 5
}
